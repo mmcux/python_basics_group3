{
 "cells": [
  {
   "cell_type": "markdown",
   "metadata": {
    "slideshow": {
     "slide_type": "slide"
    }
   },
   "source": [
    "# Using loops with dictionaries\n",
    "\n",
    "* dictionaries can be used, similar to the other data structures, in loops\n",
    "\n"
   ]
  },
  {
   "cell_type": "code",
   "execution_count": 15,
   "metadata": {},
   "outputs": [],
   "source": [
    "brd_cap_dict = {\"Hamburg\":\"Hamburg\", \"Nordrhein-Westfalen\":\"Düsseldorf\", \"Bayern\":\"München\",\n",
    "               \"Niedersachsen\":\"Hannover\",\"Berlin\":\"Berlin\"}"
   ]
  },
  {
   "cell_type": "markdown",
   "metadata": {},
   "source": [
    "* keys and values can be adressed specifically with specific functions\n",
    "* for example if you want to adress the keys, you can use *.keys() (which is the default, if you don't use any method)"
   ]
  },
  {
   "cell_type": "code",
   "execution_count": 16,
   "metadata": {},
   "outputs": [
    {
     "name": "stdout",
     "output_type": "stream",
     "text": [
      "Hamburg\n",
      "Nordrhein-Westfalen\n",
      "Bayern\n",
      "Niedersachsen\n",
      "Berlin\n"
     ]
    }
   ],
   "source": [
    "for bundesland in brd_cap_dict.keys():\n",
    "    print(bundesland)"
   ]
  },
  {
   "cell_type": "markdown",
   "metadata": {},
   "source": [
    "* if you want to adress the values, you can use *.values()"
   ]
  },
  {
   "cell_type": "code",
   "execution_count": 17,
   "metadata": {},
   "outputs": [
    {
     "name": "stdout",
     "output_type": "stream",
     "text": [
      "Hamburg\n",
      "Düsseldorf\n",
      "München\n",
      "Hannover\n",
      "Berlin\n"
     ]
    }
   ],
   "source": [
    "for hauptstadt in brd_cap_dict.values():\n",
    "    print(hauptstadt)"
   ]
  },
  {
   "cell_type": "markdown",
   "metadata": {},
   "source": [
    "* you can also adress both of them, at the same time with the *.item() method"
   ]
  },
  {
   "cell_type": "code",
   "execution_count": 27,
   "metadata": {},
   "outputs": [
    {
     "name": "stdout",
     "output_type": "stream",
     "text": [
      "Hamburg ist die Haupstadt von Hamburg\n",
      "Düsseldorf ist die Haupstadt von Nordrhein-Westfalen\n",
      "München ist die Haupstadt von Bayern\n",
      "Hannover ist die Haupstadt von Niedersachsen\n",
      "Berlin ist die Haupstadt von Berlin\n"
     ]
    }
   ],
   "source": [
    "for bundesland, hauptstadt in brd_cap_dict.items():\n",
    "    print(hauptstadt, \"ist die Haupstadt von\", bundesland)"
   ]
  },
  {
   "cell_type": "markdown",
   "metadata": {},
   "source": [
    "* you can adress them independently of each other\n",
    "* if you want to find the capitals of states with more than 10 characters, you can for example use the following code"
   ]
  },
  {
   "cell_type": "code",
   "execution_count": 19,
   "metadata": {},
   "outputs": [
    {
     "name": "stdout",
     "output_type": "stream",
     "text": [
      "Düsseldorf\n",
      "Hannover\n"
     ]
    }
   ],
   "source": [
    "for bundesland, hauptstadt in brd_cap_dict.items():\n",
    "    if len(bundesland) > 10:\n",
    "        print(hauptstadt)"
   ]
  },
  {
   "cell_type": "markdown",
   "metadata": {},
   "source": [
    "* or if you want to find out, which state is a city-state"
   ]
  },
  {
   "cell_type": "code",
   "execution_count": 23,
   "metadata": {},
   "outputs": [
    {
     "name": "stdout",
     "output_type": "stream",
     "text": [
      "Hamburg\n",
      "Berlin\n"
     ]
    }
   ],
   "source": [
    "for bundesland, hauptstadt in brd_cap_dict.items():\n",
    "    if bundesland == hauptstadt:\n",
    "        print(bundesland)"
   ]
  }
 ],
 "metadata": {
  "kernelspec": {
   "display_name": "Python 3",
   "language": "python",
   "name": "python3"
  },
  "language_info": {
   "codemirror_mode": {
    "name": "ipython",
    "version": 3
   },
   "file_extension": ".py",
   "mimetype": "text/x-python",
   "name": "python",
   "nbconvert_exporter": "python",
   "pygments_lexer": "ipython3",
   "version": "3.7.4"
  }
 },
 "nbformat": 4,
 "nbformat_minor": 2
}
