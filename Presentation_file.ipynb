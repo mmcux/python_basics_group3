{
 "cells": [
  {
   "cell_type": "markdown",
   "metadata": {},
   "source": [
    "# Dictionaries\n",
    "\n",
    "A data structure organized as an associate array with a Key-Value Pair. The dictionary is unordered and mutable.\n",
    "The key is like the index of a list.\n",
    "\n"
   ]
  },
  {
   "cell_type": "markdown",
   "metadata": {},
   "source": [
    "Here we can make a short comparison between a list and a dictionary.\n",
    "We can grab a specific item by giving the index into the square brackets. Here we want to grab the second item in both list and dictionary."
   ]
  },
  {
   "cell_type": "code",
   "execution_count": 2,
   "metadata": {},
   "outputs": [
    {
     "name": "stdout",
     "output_type": "stream",
     "text": [
      "The second item in the list is:  1\n",
      "The second item in the dictionary is:  1\n"
     ]
    }
   ],
   "source": [
    "num_ls = [0,1,2]\n",
    "num_dict = {0:0, 1:1, 2:2}\n",
    "print(\"The second item in the list is: \", num_ls[1])\n",
    "print(\"The second item in the dictionary is: \", num_dict[1])\n"
   ]
  },
  {
   "cell_type": "markdown",
   "metadata": {},
   "source": [
    "Like lists it also not possible to call an index which is not included in the dictionary."
   ]
  },
  {
   "cell_type": "code",
   "execution_count": 3,
   "metadata": {},
   "outputs": [
    {
     "ename": "IndexError",
     "evalue": "list index out of range",
     "output_type": "error",
     "traceback": [
      "\u001b[0;31m---------------------------------------------------------------------------\u001b[0m",
      "\u001b[0;31mIndexError\u001b[0m                                Traceback (most recent call last)",
      "\u001b[0;32m<ipython-input-3-34064b77e515>\u001b[0m in \u001b[0;36m<module>\u001b[0;34m\u001b[0m\n\u001b[0;32m----> 1\u001b[0;31m \u001b[0mnum_ls\u001b[0m\u001b[0;34m[\u001b[0m\u001b[0;36m7\u001b[0m\u001b[0;34m]\u001b[0m\u001b[0;34m\u001b[0m\u001b[0;34m\u001b[0m\u001b[0m\n\u001b[0m",
      "\u001b[0;31mIndexError\u001b[0m: list index out of range"
     ]
    }
   ],
   "source": [
    "num_ls[7]"
   ]
  },
  {
   "cell_type": "code",
   "execution_count": 4,
   "metadata": {},
   "outputs": [
    {
     "ename": "KeyError",
     "evalue": "7",
     "output_type": "error",
     "traceback": [
      "\u001b[0;31m---------------------------------------------------------------------------\u001b[0m",
      "\u001b[0;31mKeyError\u001b[0m                                  Traceback (most recent call last)",
      "\u001b[0;32m<ipython-input-4-f345ad396a80>\u001b[0m in \u001b[0;36m<module>\u001b[0;34m\u001b[0m\n\u001b[0;32m----> 1\u001b[0;31m \u001b[0mnum_dict\u001b[0m\u001b[0;34m[\u001b[0m\u001b[0;36m7\u001b[0m\u001b[0;34m]\u001b[0m\u001b[0;34m\u001b[0m\u001b[0;34m\u001b[0m\u001b[0m\n\u001b[0m",
      "\u001b[0;31mKeyError\u001b[0m: 7"
     ]
    }
   ],
   "source": [
    "num_dict[7]"
   ]
  },
  {
   "cell_type": "markdown",
   "metadata": {},
   "source": [
    "We see the error messages for the same reason. Because we try to grab an item which is not in the list.\n",
    "The advantage of the dictionary is, that we can name the index like we want to. Almost.\n",
    "\n",
    "The key must be an immutable type as the key will be stored as hash in a fixed place in the memory.\n",
    "Example: We want to bring the following table into a dictionary, so we can ask for the capital of a german state.\n",
    "\n",
    "---\n",
    "\n",
    "|Key|Value|\n",
    "| --- | --- |\n",
    "|Hamburg|Hamburg|\n",
    "|Nordrhein-Westfalen|Düsseldorf|\n",
    "|Bayern|München|\n",
    "|Niedersachsen|Hannover|\n",
    "\n"
   ]
  },
  {
   "cell_type": "code",
   "execution_count": 15,
   "metadata": {},
   "outputs": [
    {
     "data": {
      "text/plain": [
       "{'Hamburg': 'Hamburg',\n",
       " 'Nordrhein-Westfalen': 'Düsseldorf',\n",
       " 'Bayern': 'München',\n",
       " 'Niedersachsen': 'Hanover'}"
      ]
     },
     "execution_count": 15,
     "metadata": {},
     "output_type": "execute_result"
    }
   ],
   "source": [
    "brd_cap_dict = {\"Hamburg\": \"Hamburg\", \"Nordrhein-Westfalen\": \"Düsseldorf\",\n",
    "                 \"Bayern\": \"München\", \"Niedersachsen\": \"Hanover\"}\n",
    "brd_cap_dict"
   ]
  },
  {
   "cell_type": "markdown",
   "metadata": {},
   "source": [
    "# Questions\n",
    "* There is a typo in Hannover. How can we correct it?\n",
    "* Add another state. How would you do it?\n",
    "\n",
    "\n",
    "\n",
    "\n"
   ]
  },
  {
   "cell_type": "code",
   "execution_count": 16,
   "metadata": {},
   "outputs": [],
   "source": [
    "brd_cap_dict[\"Niedersachsen\"] = \"Hannover\"\n",
    "brd_cap_dict[\"Sachsen-Anhalt\"] = \"Magdeburg\"\n",
    "brd_cap_dict[\"Berlin\"] = \"Berlin\""
   ]
  },
  {
   "cell_type": "markdown",
   "metadata": {},
   "source": [
    "* The Bavarians fulfill their dream and become independent. How do we delete them out of our dictionary?"
   ]
  },
  {
   "cell_type": "markdown",
   "metadata": {},
   "source": [
    "Answer\n",
    "\n",
    "\n",
    "\n",
    "\n",
    "```python\n",
    "del brd_cap_dict[\"Bayern\"]\n",
    "brd_cap_dict.pop(\"Bayern\")```\n",
    "...?\n"
   ]
  },
  {
   "cell_type": "code",
   "execution_count": null,
   "metadata": {},
   "outputs": [],
   "source": []
  },
  {
   "cell_type": "markdown",
   "metadata": {
    "slideshow": {
     "slide_type": "slide"
    }
   },
   "source": [
    "# Using loops with dictionaries\n",
    "\n",
    "* dictionaries can be used, similar to the other data structures, in loops\n",
    "\n"
   ]
  },
  {
   "cell_type": "markdown",
   "metadata": {},
   "source": [
    "* keys and values can be adressed specifically with specific methods\n",
    "* for example if you want to adress the keys, you can use *.keys() (which is the default, if you don't use any method)"
   ]
  },
  {
   "cell_type": "code",
   "execution_count": 17,
   "metadata": {},
   "outputs": [
    {
     "name": "stdout",
     "output_type": "stream",
     "text": [
      "Hamburg\n",
      "Nordrhein-Westfalen\n",
      "Bayern\n",
      "Niedersachsen\n",
      "Sachsen-Anhalt\n",
      "Berlin\n"
     ]
    }
   ],
   "source": [
    "for bundesland in brd_cap_dict.keys():\n",
    "    print(bundesland)"
   ]
  },
  {
   "cell_type": "markdown",
   "metadata": {},
   "source": [
    "* if you want to adress the values, you can use *.values()"
   ]
  },
  {
   "cell_type": "code",
   "execution_count": 18,
   "metadata": {},
   "outputs": [
    {
     "name": "stdout",
     "output_type": "stream",
     "text": [
      "Hamburg\n",
      "Düsseldorf\n",
      "München\n",
      "Hannover\n",
      "Magdeburg\n",
      "Berlin\n"
     ]
    }
   ],
   "source": [
    "for hauptstadt in brd_cap_dict.values():\n",
    "    print(hauptstadt)"
   ]
  },
  {
   "cell_type": "markdown",
   "metadata": {},
   "source": [
    "* you can also adress both of them, at the same time with the *.item() method"
   ]
  },
  {
   "cell_type": "code",
   "execution_count": 19,
   "metadata": {},
   "outputs": [
    {
     "name": "stdout",
     "output_type": "stream",
     "text": [
      "Hamburg ist die Haupstadt von Hamburg\n",
      "Düsseldorf ist die Haupstadt von Nordrhein-Westfalen\n",
      "München ist die Haupstadt von Bayern\n",
      "Hannover ist die Haupstadt von Niedersachsen\n",
      "Magdeburg ist die Haupstadt von Sachsen-Anhalt\n",
      "Berlin ist die Haupstadt von Berlin\n"
     ]
    }
   ],
   "source": [
    "for bundesland, hauptstadt in brd_cap_dict.items():\n",
    "    print(hauptstadt, \"ist die Haupstadt von\", bundesland)"
   ]
  },
  {
   "cell_type": "markdown",
   "metadata": {},
   "source": [
    "* you can adress them independently of each other\n",
    "* if you want to find the capitals of states with more than 10 characters, you can for example use the following code"
   ]
  },
  {
   "cell_type": "code",
   "execution_count": 22,
   "metadata": {},
   "outputs": [
    {
     "name": "stdout",
     "output_type": "stream",
     "text": [
      "Düsseldorf\n",
      "Hannover\n",
      "Magdeburg\n"
     ]
    }
   ],
   "source": [
    "for bundesland, hauptstadt in brd_cap_dict.items():\n",
    "    if len(bundesland) > 10:\n",
    "        print(hauptstadt)"
   ]
  },
  {
   "cell_type": "markdown",
   "metadata": {},
   "source": [
    "* or if you want to find out, which state is a city-state"
   ]
  },
  {
   "cell_type": "code",
   "execution_count": 23,
   "metadata": {},
   "outputs": [
    {
     "name": "stdout",
     "output_type": "stream",
     "text": [
      "Hamburg\n",
      "Berlin\n"
     ]
    }
   ],
   "source": [
    "for bundesland, hauptstadt in brd_cap_dict.items():\n",
    "    if bundesland == hauptstadt:\n",
    "        print(bundesland)"
   ]
  },
  {
   "cell_type": "code",
   "execution_count": null,
   "metadata": {},
   "outputs": [],
   "source": []
  }
 ],
 "metadata": {
  "kernelspec": {
   "display_name": "Python 3",
   "language": "python",
   "name": "python3"
  },
  "language_info": {
   "codemirror_mode": {
    "name": "ipython",
    "version": 3
   },
   "file_extension": ".py",
   "mimetype": "text/x-python",
   "name": "python",
   "nbconvert_exporter": "python",
   "pygments_lexer": "ipython3",
   "version": "3.7.4"
  }
 },
 "nbformat": 4,
 "nbformat_minor": 4
}
