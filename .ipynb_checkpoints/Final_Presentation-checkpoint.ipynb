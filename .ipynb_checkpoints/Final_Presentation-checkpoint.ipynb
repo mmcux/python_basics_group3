{
 "cells": [
  {
   "cell_type": "markdown",
   "metadata": {},
   "source": [
    "# Mutability\n",
    "\n",
    "Basically translates to **\"Wandelbarkeit\"**\n",
    "\n",
    "This refers to\n",
    "\n",
    "**the capability of an object to be changed after it has been instantiated**\n",
    "\n",
    "\n",
    "\n",
    "One such example are lists, which can be changed in terms of structure as well as item within the list. E.g., we can change the contents of a list at any arbitrary index and grow the list dynamically. \n",
    "\n",
    "You have already learned this from the previous group, but for presentation purposes let's look at a few examples:"
   ]
  },
  {
   "cell_type": "markdown",
   "metadata": {},
   "source": [
    "-----------------------------------------------------------\n",
    "\n",
    "Let's define a list, which contains integers from 0 to 10"
   ]
  },
  {
   "cell_type": "code",
   "execution_count": 10,
   "metadata": {},
   "outputs": [
    {
     "data": {
      "text/plain": [
       "[0, 1, 2, 3, 4, 5, 6, 7, 8, 9, 10]"
      ]
     },
     "execution_count": 10,
     "metadata": {},
     "output_type": "execute_result"
    }
   ],
   "source": [
    "list1 = [i for i in range (0,11)]\n",
    "list1"
   ]
  },
  {
   "cell_type": "markdown",
   "metadata": {},
   "source": [
    "------\n",
    "Now we can e.g. replace items within the list and/or add new items..."
   ]
  },
  {
   "cell_type": "code",
   "execution_count": 11,
   "metadata": {
    "scrolled": true
   },
   "outputs": [
    {
     "data": {
      "text/plain": [
       "[0, 1, 2, 3, 4, 50, 6, 7, 8, 9, 10]"
      ]
     },
     "execution_count": 11,
     "metadata": {},
     "output_type": "execute_result"
    }
   ],
   "source": [
    "list1 [5] = 50\n",
    "list1"
   ]
  },
  {
   "cell_type": "code",
   "execution_count": 12,
   "metadata": {},
   "outputs": [
    {
     "data": {
      "text/plain": [
       "[0, 1, 2, 3, 4, 50, 6, 7, 8, 9, 10, 25]"
      ]
     },
     "execution_count": 12,
     "metadata": {},
     "output_type": "execute_result"
    }
   ],
   "source": [
    "list1.append (25)\n",
    "list1"
   ]
  },
  {
   "cell_type": "markdown",
   "metadata": {},
   "source": [
    "---\n",
    "... or we can change the order of the items"
   ]
  },
  {
   "cell_type": "code",
   "execution_count": 13,
   "metadata": {},
   "outputs": [
    {
     "data": {
      "text/plain": [
       "[25, 10, 9, 8, 7, 6, 50, 4, 3, 2, 1, 0]"
      ]
     },
     "execution_count": 13,
     "metadata": {},
     "output_type": "execute_result"
    }
   ],
   "source": [
    "list1.reverse()\n",
    "list1"
   ]
  },
  {
   "cell_type": "code",
   "execution_count": 14,
   "metadata": {
    "scrolled": true
   },
   "outputs": [
    {
     "data": {
      "text/plain": [
       "[0, 1, 2, 3, 4, 6, 7, 8, 9, 10, 25, 50]"
      ]
     },
     "execution_count": 14,
     "metadata": {},
     "output_type": "execute_result"
    }
   ],
   "source": [
    "list1.sort()\n",
    "list1"
   ]
  },
  {
   "cell_type": "code",
   "execution_count": null,
   "metadata": {},
   "outputs": [],
   "source": [
    "list1."
   ]
  },
  {
   "cell_type": "markdown",
   "metadata": {},
   "source": [
    "---\n",
    "So far, so good.\n",
    "\n",
    "But there can also be situations, where you want to make your data structure **immutable**. E.g. if you want to prevent users from messing around with your program (if they have access to it)"
   ]
  },
  {
   "cell_type": "markdown",
   "metadata": {},
   "source": [
    "---\n",
    "# Tuples"
   ]
  },
  {
   "cell_type": "markdown",
   "metadata": {},
   "source": [
    "\n",
    "Are similar to lists but **not mutable**, meaning:\n",
    "\n",
    "  * they can store different types of data\n",
    "  * elements can be accessed via zero-based indexing\n",
    "  * you can loop through with a for loop\n",
    "---\n",
    "*But* \n",
    "\n",
    "  * you can not make a tuple longer\n",
    "  * you can not reassign what is in the tuple (there is an exception)\n",
    "  * you can only access its contents\n",
    "---\n",
    "So...what are tuples good for?\n",
    "\n",
    "   * they are faster than lists\n",
    "   * code is safer, because the elements within a tuple are protected\n",
    "     "
   ]
  },
  {
   "cell_type": "markdown",
   "metadata": {},
   "source": [
    "---"
   ]
  },
  {
   "cell_type": "markdown",
   "metadata": {},
   "source": [
    "Create a tuple:"
   ]
  },
  {
   "cell_type": "code",
   "execution_count": null,
   "metadata": {},
   "outputs": [],
   "source": [
    "my_tuple = (1, 7, 0, 10)"
   ]
  },
  {
   "cell_type": "markdown",
   "metadata": {},
   "source": [
    "Note: The parenthesis are optional, but it is good practice to use them"
   ]
  },
  {
   "cell_type": "markdown",
   "metadata": {},
   "source": [
    "---\n",
    "Let's try to apply common list methods on the tuple:"
   ]
  },
  {
   "cell_type": "code",
   "execution_count": null,
   "metadata": {},
   "outputs": [],
   "source": [
    "my_tuple.append(5)"
   ]
  },
  {
   "cell_type": "code",
   "execution_count": null,
   "metadata": {
    "scrolled": true
   },
   "outputs": [],
   "source": [
    "my_tuple.sort()"
   ]
  },
  {
   "cell_type": "markdown",
   "metadata": {},
   "source": [
    "---\n",
    "There is an exception to mutability **if the tuple itself contains mutable objects** (such as a list):"
   ]
  },
  {
   "cell_type": "code",
   "execution_count": 1,
   "metadata": {},
   "outputs": [
    {
     "data": {
      "text/plain": [
       "(1, 7, [0, 10, 5])"
      ]
     },
     "execution_count": 1,
     "metadata": {},
     "output_type": "execute_result"
    }
   ],
   "source": [
    "my_tuple2 = (1, 7, [0, 10])\n",
    "\n",
    "my_tuple2[2].append(5)\n",
    "\n",
    "my_tuple2"
   ]
  },
  {
   "cell_type": "markdown",
   "metadata": {},
   "source": [
    "As you can see, on a **list within a tuple** all of the list methods can be applied"
   ]
  },
  {
   "cell_type": "markdown",
   "metadata": {},
   "source": [
    "---\n",
    "If we look at all the methods, which can be applied to tuples, you can notice that we don't have that much possibilities"
   ]
  },
  {
   "cell_type": "code",
   "execution_count": null,
   "metadata": {},
   "outputs": [],
   "source": [
    "my_tuple2."
   ]
  },
  {
   "cell_type": "markdown",
   "metadata": {},
   "source": [
    "---\n",
    "# Dictionaries\n",
    "\n",
    "A data structure organized as an associate array with a Key-Value Pair. The dictionary is unordered and mutable.\n",
    "The key is like the index of a list.\n",
    "\n"
   ]
  },
  {
   "cell_type": "markdown",
   "metadata": {},
   "source": [
    "Here we can make a short comparison between a list and a dictionary.\n",
    "We can grab a specific item by giving the index into the square brackets. Here we want to grab the second item in both list and dictionary."
   ]
  },
  {
   "cell_type": "code",
   "execution_count": 2,
   "metadata": {},
   "outputs": [
    {
     "name": "stdout",
     "output_type": "stream",
     "text": [
      "The second item in the list is:  1\n",
      "The second item in the dictionary is:  1\n"
     ]
    }
   ],
   "source": [
    "num_ls = [0,1,2]\n",
    "num_dict = {0:0, 1:1, 2:2}\n",
    "print(\"The second item in the list is: \", num_ls[1])\n",
    "print(\"The second item in the dictionary is: \", num_dict[1])\n"
   ]
  },
  {
   "cell_type": "markdown",
   "metadata": {},
   "source": [
    "Like lists it also not possible to call an index which is not included in the dictionary."
   ]
  },
  {
   "cell_type": "code",
   "execution_count": 3,
   "metadata": {},
   "outputs": [
    {
     "ename": "IndexError",
     "evalue": "list index out of range",
     "output_type": "error",
     "traceback": [
      "\u001b[0;31m---------------------------------------------------------------------------\u001b[0m",
      "\u001b[0;31mIndexError\u001b[0m                                Traceback (most recent call last)",
      "\u001b[0;32m<ipython-input-3-34064b77e515>\u001b[0m in \u001b[0;36m<module>\u001b[0;34m\u001b[0m\n\u001b[0;32m----> 1\u001b[0;31m \u001b[0mnum_ls\u001b[0m\u001b[0;34m[\u001b[0m\u001b[0;36m7\u001b[0m\u001b[0;34m]\u001b[0m\u001b[0;34m\u001b[0m\u001b[0;34m\u001b[0m\u001b[0m\n\u001b[0m",
      "\u001b[0;31mIndexError\u001b[0m: list index out of range"
     ]
    }
   ],
   "source": [
    "num_ls[7]"
   ]
  },
  {
   "cell_type": "code",
   "execution_count": 4,
   "metadata": {},
   "outputs": [
    {
     "ename": "KeyError",
     "evalue": "7",
     "output_type": "error",
     "traceback": [
      "\u001b[0;31m---------------------------------------------------------------------------\u001b[0m",
      "\u001b[0;31mKeyError\u001b[0m                                  Traceback (most recent call last)",
      "\u001b[0;32m<ipython-input-4-f345ad396a80>\u001b[0m in \u001b[0;36m<module>\u001b[0;34m\u001b[0m\n\u001b[0;32m----> 1\u001b[0;31m \u001b[0mnum_dict\u001b[0m\u001b[0;34m[\u001b[0m\u001b[0;36m7\u001b[0m\u001b[0;34m]\u001b[0m\u001b[0;34m\u001b[0m\u001b[0;34m\u001b[0m\u001b[0m\n\u001b[0m",
      "\u001b[0;31mKeyError\u001b[0m: 7"
     ]
    }
   ],
   "source": [
    "num_dict[7]"
   ]
  },
  {
   "cell_type": "markdown",
   "metadata": {},
   "source": [
    "We see the error messages for the same reason. Because we try to grab an item which is not in the list.\n",
    "The advantage of the dictionary is, that we can name the index like we want to. Almost.\n",
    "\n",
    "The key must be an immutable type as the key will be stored as hash in a fixed place in the memory.\n",
    "Example: We want to bring the following table into a dictionary, so we can ask for the capital of a german state.\n",
    "\n",
    "---\n",
    "\n",
    "|Key|Value|\n",
    "| --- | --- |\n",
    "|Hamburg|Hamburg|\n",
    "|Nordrhein-Westfalen|Düsseldorf|\n",
    "|Bayern|München|\n",
    "|Niedersachsen|Hannover|\n",
    "\n"
   ]
  },
  {
   "cell_type": "code",
   "execution_count": 15,
   "metadata": {},
   "outputs": [
    {
     "data": {
      "text/plain": [
       "{'Hamburg': 'Hamburg',\n",
       " 'Nordrhein-Westfalen': 'Düsseldorf',\n",
       " 'Bayern': 'München',\n",
       " 'Niedersachsen': 'Hanover'}"
      ]
     },
     "execution_count": 15,
     "metadata": {},
     "output_type": "execute_result"
    }
   ],
   "source": [
    "brd_cap_dict = {\"Hamburg\": \"Hamburg\", \"Nordrhein-Westfalen\": \"Düsseldorf\",\n",
    "                 \"Bayern\": \"München\", \"Niedersachsen\": \"Hanover\"}\n",
    "brd_cap_dict"
   ]
  },
  {
   "cell_type": "markdown",
   "metadata": {},
   "source": [
    "---\n",
    "# Questions\n",
    "* There is a typo in Hannover. How can we correct it?\n",
    "* Add another state. How would you do it?\n",
    "\n",
    "\n",
    "\n",
    "\n"
   ]
  },
  {
   "cell_type": "code",
   "execution_count": 16,
   "metadata": {},
   "outputs": [],
   "source": [
    "brd_cap_dict[\"Niedersachsen\"] = \"Hannover\"\n",
    "brd_cap_dict[\"Sachsen-Anhalt\"] = \"Magdeburg\"\n",
    "brd_cap_dict[\"Berlin\"] = \"Berlin\""
   ]
  },
  {
   "cell_type": "markdown",
   "metadata": {},
   "source": [
    "* The Bavarians fulfill their dream and become independent. How do we delete them out of our dictionary?"
   ]
  },
  {
   "cell_type": "markdown",
   "metadata": {},
   "source": [
    "Answer\n",
    "\n",
    "\n",
    "\n",
    "\n",
    "```python\n",
    "del brd_cap_dict[\"Bayern\"]\n",
    "brd_cap_dict.pop(\"Bayern\")```\n",
    "...?\n"
   ]
  },
  {
   "cell_type": "code",
   "execution_count": null,
   "metadata": {},
   "outputs": [],
   "source": []
  },
  {
   "cell_type": "markdown",
   "metadata": {
    "slideshow": {
     "slide_type": "slide"
    }
   },
   "source": [
    "---\n",
    "# Using loops with dictionaries\n",
    "\n",
    "* dictionaries can be used, similar to the other data structures, in loops\n",
    "\n"
   ]
  },
  {
   "cell_type": "markdown",
   "metadata": {},
   "source": [
    "* keys and values can be adressed specifically with specific methods\n",
    "* for example if you want to adress the keys, you can use *.keys() (which is the default, if you don't use any method)"
   ]
  },
  {
   "cell_type": "code",
   "execution_count": 17,
   "metadata": {},
   "outputs": [
    {
     "name": "stdout",
     "output_type": "stream",
     "text": [
      "Hamburg\n",
      "Nordrhein-Westfalen\n",
      "Bayern\n",
      "Niedersachsen\n",
      "Sachsen-Anhalt\n",
      "Berlin\n"
     ]
    }
   ],
   "source": [
    "for bundesland in brd_cap_dict.keys():\n",
    "    print(bundesland)"
   ]
  },
  {
   "cell_type": "markdown",
   "metadata": {},
   "source": [
    "* if you want to adress the values, you can use *.values()"
   ]
  },
  {
   "cell_type": "code",
   "execution_count": 18,
   "metadata": {},
   "outputs": [
    {
     "name": "stdout",
     "output_type": "stream",
     "text": [
      "Hamburg\n",
      "Düsseldorf\n",
      "München\n",
      "Hannover\n",
      "Magdeburg\n",
      "Berlin\n"
     ]
    }
   ],
   "source": [
    "for hauptstadt in brd_cap_dict.values():\n",
    "    print(hauptstadt)"
   ]
  },
  {
   "cell_type": "markdown",
   "metadata": {},
   "source": [
    "* you can also adress both of them, at the same time with the *.item() method"
   ]
  },
  {
   "cell_type": "code",
   "execution_count": 19,
   "metadata": {},
   "outputs": [
    {
     "name": "stdout",
     "output_type": "stream",
     "text": [
      "Hamburg ist die Haupstadt von Hamburg\n",
      "Düsseldorf ist die Haupstadt von Nordrhein-Westfalen\n",
      "München ist die Haupstadt von Bayern\n",
      "Hannover ist die Haupstadt von Niedersachsen\n",
      "Magdeburg ist die Haupstadt von Sachsen-Anhalt\n",
      "Berlin ist die Haupstadt von Berlin\n"
     ]
    }
   ],
   "source": [
    "for bundesland, hauptstadt in brd_cap_dict.items():\n",
    "    print(hauptstadt, \"ist die Haupstadt von\", bundesland)"
   ]
  },
  {
   "cell_type": "markdown",
   "metadata": {},
   "source": [
    "* you can adress them independently of each other\n",
    "* if you want to find the capitals of states with more than 10 characters, you can for example use the following code"
   ]
  },
  {
   "cell_type": "code",
   "execution_count": 22,
   "metadata": {},
   "outputs": [
    {
     "name": "stdout",
     "output_type": "stream",
     "text": [
      "Düsseldorf\n",
      "Hannover\n",
      "Magdeburg\n"
     ]
    }
   ],
   "source": [
    "for bundesland, hauptstadt in brd_cap_dict.items():\n",
    "    if len(bundesland) > 10:\n",
    "        print(hauptstadt)"
   ]
  },
  {
   "cell_type": "markdown",
   "metadata": {},
   "source": [
    "* or if you want to find out, which state is a city-state"
   ]
  },
  {
   "cell_type": "code",
   "execution_count": 23,
   "metadata": {},
   "outputs": [
    {
     "name": "stdout",
     "output_type": "stream",
     "text": [
      "Hamburg\n",
      "Berlin\n"
     ]
    }
   ],
   "source": [
    "for bundesland, hauptstadt in brd_cap_dict.items():\n",
    "    if bundesland == hauptstadt:\n",
    "        print(bundesland)"
   ]
  },
  {
   "cell_type": "code",
   "execution_count": null,
   "metadata": {},
   "outputs": [],
   "source": []
  }
 ],
 "metadata": {
  "kernelspec": {
   "display_name": "Python 3",
   "language": "python",
   "name": "python3"
  },
  "language_info": {
   "codemirror_mode": {
    "name": "ipython",
    "version": 3
   },
   "file_extension": ".py",
   "mimetype": "text/x-python",
   "name": "python",
   "nbconvert_exporter": "python",
   "pygments_lexer": "ipython3",
   "version": "3.7.4"
  }
 },
 "nbformat": 4,
 "nbformat_minor": 4
}
